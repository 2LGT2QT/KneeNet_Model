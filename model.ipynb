{
 "cells": [
  {
   "cell_type": "markdown",
   "source": [
    "# Loading The Required Libraries"
   ],
   "metadata": {
    "collapsed": false
   }
  },
  {
   "cell_type": "code",
   "execution_count": 137,
   "outputs": [],
   "source": [
    "import os\n",
    "import tensorflow as tf\n",
    "from tensorflow.keras.optimizers.legacy import RMSprop\n",
    "from tensorflow.keras.preprocessing.image import ImageDataGenerator\n",
    "import matplotlib.pyplot as plt"
   ],
   "metadata": {
    "collapsed": false
   }
  },
  {
   "cell_type": "markdown",
   "source": [
    "<br><br>\n",
    "# Setting Up The Directories\n",
    "\n",
    "Specify the directories for the training, validation, and test data:\n",
    "\n",
    "- `base_dir`: The base directory containing the dataset.\n",
    "- `train_dir`: The directory containing the training images.\n",
    "- `val_dir`: The directory containing the validation images.\n",
    "- `test_dir`: The directory containing the test images.\n"
   ],
   "metadata": {
    "collapsed": false
   }
  },
  {
   "cell_type": "code",
   "execution_count": 138,
   "outputs": [],
   "source": [
    "base_dir = '/Users/sreehari/Desktop/knee'\n",
    "train_dir = os.path.join(base_dir, 'train')\n",
    "val_dir = os.path.join(base_dir, 'valid')\n",
    "test_dir = os.path.join(base_dir, 'test')"
   ],
   "metadata": {
    "collapsed": false
   }
  },
  {
   "cell_type": "markdown",
   "source": [
    "<br><br>\n",
    "# Defining The Model Architecture\n",
    "\n",
    "Create the model architecture using the Sequential API:\n",
    "\n",
    "- `Conv2D`: Convolutional layer with 16 filters, a kernel size of (3, 3), ReLU activation, and input shape (150, 150, 3).\n",
    "- `MaxPooling2D`: Max pooling layer with a pool size of (2, 2).\n",
    "- Additional `Conv2D` and `MaxPooling2D` layers for feature extraction.\n",
    "- `Flatten`: Flatten layer to convert the 3D feature maps to 1D.\n",
    "- `Dense`: Fully connected layer with 512 units and ReLU activation.\n",
    "- Final `Dense` layer with 1 unit and sigmoid activation for binary classification.\n"
   ],
   "metadata": {
    "collapsed": false
   }
  },
  {
   "cell_type": "code",
   "execution_count": 139,
   "outputs": [],
   "source": [
    "model = tf.keras.models.Sequential([\n",
    "    tf.keras.layers.Conv2D(16, (3, 3), activation='relu', input_shape=(150, 150, 3)),\n",
    "    tf.keras.layers.MaxPooling2D(2, 2),\n",
    "    tf.keras.layers.Conv2D(32, (3, 3), activation='relu'),\n",
    "    tf.keras.layers.MaxPooling2D(2, 2),\n",
    "    tf.keras.layers.Conv2D(64, (3, 3), activation='relu'),\n",
    "    tf.keras.layers.MaxPooling2D(2, 2),\n",
    "    tf.keras.layers.Flatten(),\n",
    "    tf.keras.layers.Dense(512, activation='relu'),\n",
    "    tf.keras.layers.Dense(1, activation='sigmoid')\n",
    "])"
   ],
   "metadata": {
    "collapsed": false
   }
  },
  {
   "cell_type": "markdown",
   "source": [
    "<br><br>\n",
    "# Compiling The Model\n",
    "\n",
    "Compile the model with the specified optimizer, loss function, and metrics:\n",
    "\n",
    "- `RMSprop` optimizer with a learning rate of 0.001.\n",
    "- `binary_crossentropy` as the loss function for binary classification.\n",
    "- Accuracy as the evaluation metric.\n"
   ],
   "metadata": {
    "collapsed": false
   }
  },
  {
   "cell_type": "code",
   "execution_count": 140,
   "outputs": [],
   "source": [
    "model.compile(optimizer=RMSprop(learning_rate=0.001),\n",
    "              loss='binary_crossentropy',\n",
    "              metrics=['accuracy'])"
   ],
   "metadata": {
    "collapsed": false
   }
  },
  {
   "cell_type": "markdown",
   "source": [],
   "metadata": {
    "collapsed": false
   }
  },
  {
   "cell_type": "markdown",
   "source": [
    "<br><br><br><br>\n",
    "# Data Augmentation and Preprocessing\n",
    "\n",
    "Create data generators for data augmentation and preprocessing:\n",
    "\n",
    "- `ImageDataGenerator` for training data with rescaling by 1./255.\n",
    "- `ImageDataGenerator` for test data with rescaling by 1.0/255.\n"
   ],
   "metadata": {
    "collapsed": false
   }
  },
  {
   "cell_type": "code",
   "execution_count": 141,
   "outputs": [],
   "source": [
    "train_datagen = ImageDataGenerator(rescale=1. / 255)\n",
    "\n",
    "test_datagen = ImageDataGenerator(rescale=1.0 / 255.)"
   ],
   "metadata": {
    "collapsed": false
   }
  },
  {
   "cell_type": "markdown",
   "source": [
    "<br><br>\n",
    "# Generate Batches of Training and Validation Data\n",
    "\n",
    "Generate batches of training and validation data using the data generators:\n",
    "\n",
    "- `flow_from_directory` method to load images from the specified directories.\n",
    "- Set the batch size, class mode, and target size for the images.\n"
   ],
   "metadata": {
    "collapsed": false
   }
  },
  {
   "cell_type": "code",
   "execution_count": 142,
   "outputs": [
    {
     "name": "stdout",
     "output_type": "stream",
     "text": [
      "Found 8532 images belonging to 2 classes.\n",
      "Found 386 images belonging to 2 classes.\n"
     ]
    }
   ],
   "source": [
    "train_generator = train_datagen.flow_from_directory(train_dir,\n",
    "                                                    batch_size=20,\n",
    "                                                    class_mode='binary',\n",
    "                                                    target_size=(150, 150))\n",
    "\n",
    "validation_generator = test_datagen.flow_from_directory(val_dir,\n",
    "                                                        batch_size=20,\n",
    "                                                        class_mode='binary',\n",
    "                                                        target_size=(150, 150))"
   ],
   "metadata": {
    "collapsed": false
   }
  },
  {
   "cell_type": "markdown",
   "source": [
    "<br><br><br><br>\n",
    "# Train the Model\n",
    "\n",
    "Train the model on the training data and validate on the validation data:\n",
    "\n",
    "- Fit the model to the training data using the `fit` method.\n",
    "- Specify the number of epochs and the validation data.\n",
    "- Set `verbose=2` to display training progress.\n"
   ],
   "metadata": {
    "collapsed": false
   }
  },
  {
   "cell_type": "code",
   "execution_count": 143,
   "outputs": [
    {
     "name": "stdout",
     "output_type": "stream",
     "text": [
      "Epoch 1/30\n",
      "427/427 - 30s - loss: 0.6843 - accuracy: 0.6169 - val_loss: 0.7936 - val_accuracy: 0.6010 - 30s/epoch - 71ms/step\n",
      "Epoch 2/30\n",
      "427/427 - 31s - loss: 0.5037 - accuracy: 0.7743 - val_loss: 0.3867 - val_accuracy: 0.8549 - 31s/epoch - 73ms/step\n",
      "Epoch 3/30\n",
      "427/427 - 29s - loss: 0.4103 - accuracy: 0.8231 - val_loss: 0.4000 - val_accuracy: 0.8135 - 29s/epoch - 68ms/step\n",
      "Epoch 4/30\n",
      "427/427 - 30s - loss: 0.3471 - accuracy: 0.8504 - val_loss: 0.3678 - val_accuracy: 0.8523 - 30s/epoch - 71ms/step\n",
      "Epoch 5/30\n",
      "427/427 - 34s - loss: 0.2851 - accuracy: 0.8813 - val_loss: 0.3384 - val_accuracy: 0.8523 - 34s/epoch - 81ms/step\n",
      "Epoch 6/30\n",
      "427/427 - 34s - loss: 0.2326 - accuracy: 0.9039 - val_loss: 0.3820 - val_accuracy: 0.8705 - 34s/epoch - 80ms/step\n",
      "Epoch 7/30\n",
      "427/427 - 34s - loss: 0.1789 - accuracy: 0.9293 - val_loss: 0.3150 - val_accuracy: 0.8886 - 34s/epoch - 80ms/step\n",
      "Epoch 8/30\n",
      "427/427 - 34s - loss: 0.1388 - accuracy: 0.9463 - val_loss: 0.3349 - val_accuracy: 0.8834 - 34s/epoch - 79ms/step\n",
      "Epoch 9/30\n",
      "427/427 - 35s - loss: 0.1077 - accuracy: 0.9585 - val_loss: 0.3237 - val_accuracy: 0.9093 - 35s/epoch - 81ms/step\n",
      "Epoch 10/30\n",
      "427/427 - 37s - loss: 0.0806 - accuracy: 0.9708 - val_loss: 0.3695 - val_accuracy: 0.9067 - 37s/epoch - 87ms/step\n",
      "Epoch 11/30\n",
      "427/427 - 40s - loss: 0.0648 - accuracy: 0.9770 - val_loss: 0.6301 - val_accuracy: 0.8731 - 40s/epoch - 93ms/step\n",
      "Epoch 12/30\n",
      "427/427 - 36s - loss: 0.0533 - accuracy: 0.9821 - val_loss: 0.6504 - val_accuracy: 0.8705 - 36s/epoch - 85ms/step\n",
      "Epoch 13/30\n",
      "427/427 - 38s - loss: 0.0428 - accuracy: 0.9857 - val_loss: 0.5645 - val_accuracy: 0.8912 - 38s/epoch - 88ms/step\n",
      "Epoch 14/30\n",
      "427/427 - 40s - loss: 0.0385 - accuracy: 0.9872 - val_loss: 0.5818 - val_accuracy: 0.8860 - 40s/epoch - 93ms/step\n",
      "Epoch 15/30\n",
      "427/427 - 42s - loss: 0.0304 - accuracy: 0.9898 - val_loss: 0.5964 - val_accuracy: 0.8938 - 42s/epoch - 99ms/step\n",
      "Epoch 16/30\n",
      "427/427 - 42s - loss: 0.0299 - accuracy: 0.9911 - val_loss: 0.7004 - val_accuracy: 0.8990 - 42s/epoch - 97ms/step\n",
      "Epoch 17/30\n",
      "427/427 - 84s - loss: 0.0248 - accuracy: 0.9923 - val_loss: 1.2136 - val_accuracy: 0.8472 - 84s/epoch - 196ms/step\n",
      "Epoch 18/30\n",
      "427/427 - 72s - loss: 0.0275 - accuracy: 0.9938 - val_loss: 0.7565 - val_accuracy: 0.8964 - 72s/epoch - 169ms/step\n",
      "Epoch 19/30\n",
      "427/427 - 40s - loss: 0.0215 - accuracy: 0.9938 - val_loss: 0.9287 - val_accuracy: 0.8938 - 40s/epoch - 93ms/step\n",
      "Epoch 20/30\n",
      "427/427 - 42s - loss: 0.0171 - accuracy: 0.9945 - val_loss: 1.3213 - val_accuracy: 0.8938 - 42s/epoch - 98ms/step\n",
      "Epoch 21/30\n",
      "427/427 - 38s - loss: 0.0194 - accuracy: 0.9944 - val_loss: 1.4053 - val_accuracy: 0.8808 - 38s/epoch - 90ms/step\n",
      "Epoch 22/30\n",
      "427/427 - 40s - loss: 0.0194 - accuracy: 0.9957 - val_loss: 1.0846 - val_accuracy: 0.8990 - 40s/epoch - 94ms/step\n",
      "Epoch 23/30\n",
      "427/427 - 41s - loss: 0.0184 - accuracy: 0.9970 - val_loss: 1.0365 - val_accuracy: 0.9016 - 41s/epoch - 97ms/step\n",
      "Epoch 24/30\n",
      "427/427 - 40s - loss: 0.0144 - accuracy: 0.9965 - val_loss: 1.3453 - val_accuracy: 0.9016 - 40s/epoch - 94ms/step\n",
      "Epoch 25/30\n",
      "427/427 - 39s - loss: 0.0251 - accuracy: 0.9945 - val_loss: 1.2053 - val_accuracy: 0.8990 - 39s/epoch - 91ms/step\n",
      "Epoch 26/30\n",
      "427/427 - 39s - loss: 0.0193 - accuracy: 0.9948 - val_loss: 1.2951 - val_accuracy: 0.8912 - 39s/epoch - 91ms/step\n",
      "Epoch 27/30\n",
      "427/427 - 40s - loss: 0.0296 - accuracy: 0.9936 - val_loss: 1.2545 - val_accuracy: 0.8964 - 40s/epoch - 93ms/step\n",
      "Epoch 28/30\n",
      "427/427 - 40s - loss: 0.0193 - accuracy: 0.9945 - val_loss: 1.0397 - val_accuracy: 0.8938 - 40s/epoch - 94ms/step\n",
      "Epoch 29/30\n",
      "427/427 - 40s - loss: 0.0210 - accuracy: 0.9955 - val_loss: 1.3712 - val_accuracy: 0.8990 - 40s/epoch - 94ms/step\n",
      "Epoch 30/30\n",
      "427/427 - 38s - loss: 0.0180 - accuracy: 0.9960 - val_loss: 1.7440 - val_accuracy: 0.8964 - 38s/epoch - 89ms/step\n"
     ]
    }
   ],
   "source": [
    "history = model.fit(\n",
    "    train_generator,\n",
    "    epochs=30,\n",
    "    validation_data=validation_generator,\n",
    "    verbose=2\n",
    ")"
   ],
   "metadata": {
    "collapsed": false
   }
  },
  {
   "cell_type": "markdown",
   "source": [
    "<br><br><br><br><br><br>\n",
    "# Visualize Training and Validation Accuracy\n",
    "\n",
    "Visualize the training and validation accuracy over epochs using Matplotlib:\n",
    "\n",
    "- Extract the accuracy and loss values from the training history.\n",
    "- Plot the training and validation accuracy curves.\n",
    "- Add a title and legend to the plot."
   ],
   "metadata": {
    "collapsed": false
   }
  },
  {
   "cell_type": "code",
   "execution_count": 144,
   "outputs": [
    {
     "data": {
      "text/plain": "<Figure size 640x480 with 1 Axes>",
      "image/png": "[encoded data removed]"
     },
     "metadata": {},
     "output_type": "display_data"
    },
    {
     "data": {
      "text/plain": "<Figure size 640x480 with 0 Axes>"
     },
     "metadata": {},
     "output_type": "display_data"
    }
   ],
   "source": [
    "acc = history.history['accuracy']\n",
    "val_acc = history.history['val_accuracy']\n",
    "loss = history.history['loss']\n",
    "val_loss = history.history['val_loss']\n",
    "\n",
    "epochs = range(len(acc))\n",
    "\n",
    "plt.plot(epochs, acc, 'r', label='Training accuracy')\n",
    "plt.plot(epochs, val_acc, 'b', label='Validation accuracy')\n",
    "plt.title('Training and validation accuracy')\n",
    "plt.legend(loc=0)\n",
    "plt.figure()\n",
    "\n",
    "plt.show()"
   ],
   "metadata": {
    "collapsed": false
   }
  },
  {
   "cell_type": "markdown",
   "source": [
    "\n",
    "\n",
    "\n",
    "\n",
    "\n",
    "\n"
   ],
   "metadata": {
    "collapsed": false
   }
  },
  {
   "cell_type": "markdown",
   "source": [
    "<br><br>\n",
    "# Evaluate the Model on Test Data\n",
    "\n",
    "Evaluate the trained model on the test data:\n",
    "\n",
    "- Generate batches of test data using the test data generator.\n",
    "- Use the `evaluate` method to calculate the test loss and accuracy.\n",
    "- Print the test loss and accuracy.\n"
   ],
   "metadata": {
    "collapsed": false
   }
  },
  {
   "cell_type": "code",
   "execution_count": 168,
   "outputs": [
    {
     "name": "stdout",
     "output_type": "stream",
     "text": [
      "Found 96 images belonging to 2 classes.\n"
     ]
    }
   ],
   "source": [
    "test_generator = test_datagen.flow_from_directory(\n",
    "    test_dir,\n",
    "    batch_size=20,\n",
    "    class_mode='binary',\n",
    "    target_size=(150, 150)\n",
    ")"
   ],
   "metadata": {
    "collapsed": false
   }
  },
  {
   "cell_type": "code",
   "execution_count": 169,
   "outputs": [
    {
     "name": "stdout",
     "output_type": "stream",
     "text": [
      "5/5 [==============================] - 1s 170ms/step - loss: 1.1029 - accuracy: 0.9375\n",
      "Test Loss: 1.1028765439987183\n",
      "Test Accuracy: 0.9375\n"
     ]
    }
   ],
   "source": [
    "test_loss, test_accuracy = model.evaluate(test_generator)\n",
    "print('Test Loss:', test_loss)\n",
    "print('Test Accuracy:', test_accuracy)"
   ],
   "metadata": {
    "collapsed": false
   }
  }
 ],
 "metadata": {
  "kernelspec": {
   "display_name": "Python 3",
   "language": "python",
   "name": "python3"
  },
  "language_info": {
   "codemirror_mode": {
    "name": "ipython",
    "version": 2
   },
   "file_extension": ".py",
   "mimetype": "text/x-python",
   "name": "python",
   "nbconvert_exporter": "python",
   "pygments_lexer": "ipython2",
   "version": "2.7.6"
  }
 },
 "nbformat": 4,
 "nbformat_minor": 0
}
